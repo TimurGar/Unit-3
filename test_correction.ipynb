{
  "nbformat": 4,
  "nbformat_minor": 0,
  "metadata": {
    "colab": {
      "name": "test_correction.ipynb",
      "provenance": [],
      "authorship_tag": "ABX9TyP9F+59zCHQKMI0sTB33Y2G",
      "include_colab_link": true
    },
    "kernelspec": {
      "name": "python3",
      "display_name": "Python 3"
    }
  },
  "cells": [
    {
      "cell_type": "markdown",
      "metadata": {
        "id": "view-in-github",
        "colab_type": "text"
      },
      "source": [
        "<a href=\"https://colab.research.google.com/github/TimurGar/Unit-3/blob/main/test_correction.ipynb\" target=\"_parent\"><img src=\"https://colab.research.google.com/assets/colab-badge.svg\" alt=\"Open In Colab\"/></a>"
      ]
    },
    {
      "cell_type": "code",
      "metadata": {
        "colab": {
          "base_uri": "https://localhost:8080/"
        },
        "id": "WyISr_cSXB_7",
        "outputId": "2c85d36d-95b4-450d-f56d-98c81c96f335"
      },
      "source": [
        "# --> [2]\n",
        "# <-- [1]\n",
        "\n",
        "def check_input():\n",
        "    NUM_INPUTS = [1,2,2,1]\n",
        "    SOURCE = [4,1,3,1,2,1]\n",
        "    total = 0\n",
        "    for i in range(len(NUM_INPUTS)):\n",
        "        total += NUM_INPUTS[i]\n",
        "    if total == len(SOURCE):\n",
        "        return True\n",
        "    else:\n",
        "        return False\n",
        "\n",
        "def get_index(id):\n",
        "    NUERON = [1,2,3,4]\n",
        "    for i in range(len(NUERON)):\n",
        "        if NUERON[i] == id:\n",
        "            return i\n",
        "\n",
        "\n",
        "def simulate(NEURON, CUR_OUTPUT, NUM_INPUTS, STRENGTH, SOURCE):\n",
        "    if check_input():\n",
        "        start_idx = 0\n",
        "        for n in range(len(NEURON)):\n",
        "            end_idx = start_idx + NUM_INPUTS[n]\n",
        "            out = 0.0\n",
        "            for k in range(start_idx, end_idx-1):\n",
        "                temp = get_index(SOURCE[k])\n",
        "                out += STRENGTH[temp] * CUR_OUTPUT[temp]\n",
        "\n",
        "            CUR_OUTPUT[n] = out\n",
        "            start_idx = end_idx\n",
        "            print(\"Output of neuron id\", NEURON[n], \"is\", out)\n",
        "        return CUR_OUTPUT\n",
        "    else:\n",
        "        return \"Error in the initialization\"\n",
        "\n",
        "simulate([1,2,3,4],[0.5,0.2,0.2,-0.1],[1,2,2,1],[-0.1,0.5,-0.4,0.3,-0.4,0.2],[4,1,3,1,2,1])"
      ],
      "execution_count": 1,
      "outputs": [
        {
          "output_type": "stream",
          "text": [
            "Output of neuron id 1 is 0.0\n",
            "Output of neuron id 2 is 0.0\n",
            "Output of neuron id 3 is 0.0\n",
            "Output of neuron id 4 is 0.0\n"
          ],
          "name": "stdout"
        },
        {
          "output_type": "execute_result",
          "data": {
            "text/plain": [
              "[0.0, 0.0, 0.0, 0.0]"
            ]
          },
          "metadata": {
            "tags": []
          },
          "execution_count": 1
        }
      ]
    }
  ]
}