{
  "nbformat": 4,
  "nbformat_minor": 0,
  "metadata": {
    "colab": {
      "name": "codingLunar.ipynb",
      "provenance": [],
      "collapsed_sections": [],
      "authorship_tag": "ABX9TyOpgrMnodelc/21IKzKviCj",
      "include_colab_link": true
    },
    "kernelspec": {
      "name": "python3",
      "display_name": "Python 3"
    }
  },
  "cells": [
    {
      "cell_type": "markdown",
      "metadata": {
        "id": "view-in-github",
        "colab_type": "text"
      },
      "source": [
        "<a href=\"https://colab.research.google.com/github/TimurGar/Unit-3/blob/main/codingLunar.ipynb\" target=\"_parent\"><img src=\"https://colab.research.google.com/assets/colab-badge.svg\" alt=\"Open In Colab\"/></a>"
      ]
    },
    {
      "cell_type": "markdown",
      "metadata": {
        "id": "DdGrtSMoFnax"
      },
      "source": [
        "# Coding practice, exercise No.1\n"
      ]
    },
    {
      "cell_type": "code",
      "metadata": {
        "colab": {
          "base_uri": "https://localhost:8080/"
        },
        "id": "SRz1rUM1Fkvm",
        "outputId": "7e56cc1a-c5a8-4e05-87e7-6f7760c353cc"
      },
      "source": [
        "# Coding practice No.1\n",
        "\n",
        "num_of_men = int(input(\"Enter a number of men: \"))\n",
        "num_of_wives = num_of_men**2\n",
        "num_of_children = num_of_men**3\n",
        "\n",
        "sum = num_of_children + num_of_wives + num_of_men\n",
        "print(sum)"
      ],
      "execution_count": null,
      "outputs": [
        {
          "output_type": "stream",
          "text": [
            "Enter a number of men: 7\n",
            "399\n"
          ],
          "name": "stdout"
        }
      ]
    },
    {
      "cell_type": "markdown",
      "metadata": {
        "id": "z0UiS_SRcsof"
      },
      "source": [
        "# Coding practice, exercise No.2"
      ]
    },
    {
      "cell_type": "code",
      "metadata": {
        "colab": {
          "base_uri": "https://localhost:8080/"
        },
        "id": "nESirZBEcftV",
        "outputId": "ab57ade2-c662-4f66-e615-0aeefc60ec49"
      },
      "source": [
        "# Coding practice No.1\n",
        "\n",
        "# num_of_men = int(input(\"Enter a number of men: \"))\n",
        "# num_of_wives = num_of_men**2\n",
        "# num_of_children = num_of_men**3\n",
        "#\n",
        "# sum = num_of_children + num_of_wives + num_of_men\n",
        "# print(sum)\n",
        "\n",
        "# Coding practice No.2\n",
        "\n",
        "Input = input()\n",
        "letters_UpCase = ['A','B','C','D','E','F','G','H','I','J','K','L','M','N','O','P','Q','R','S','T','U','V','W','X','Y','Z']\n",
        "letters_LowCase = ['a','b','c','d','e','f','g','h','i','j','k','l','m','n','o','p','q','r','s','t','u','v','w','x','y','z']\n",
        "integers = [1,2,3,4,5,6,7,8,9,10,11,12,13,14,15,16,17,18,19,20,21,22,23,24,25,26]\n",
        "sum = 0\n",
        "total = 0\n",
        "multiplication = 0\n",
        "lsum = []\n",
        "decodedM = []\n",
        "output =\"\"\n",
        "\n",
        "# converting each character into an integer\n",
        "for i in range(len(Input)):\n",
        "    for l in range(len(letters_UpCase)):\n",
        "         if Input[i] == letters_UpCase[l] or Input[i] == letters_LowCase[l]:\n",
        "             decodedM.append(integers[l])\n",
        "\n",
        "# finding the sum of all the integers\n",
        "for d in range(len(decodedM)):\n",
        "    sum += int(decodedM[d])\n",
        "\n",
        "# multiplying the sum of integers by 2\n",
        "mult = sum*2\n",
        "\n",
        "# converting multiplication to a list\n",
        "lmult = list(map(int,str(mult)))\n",
        "\n",
        "# changing each odd number into \"@\"\n",
        "for o in range(len(lmult)):\n",
        "    if int(lmult[o]) % 2 == 1:\n",
        "        lmult[o] = \"@\"\n",
        "    output += str(lmult[o])\n",
        "    \n",
        "# adding \" thnx tanaka\" at the end\n",
        "output += \" thnx tanaka\"\n",
        "print(output)"
      ],
      "execution_count": null,
      "outputs": [
        {
          "output_type": "stream",
          "text": [
            "TImur\n",
            "@62 thnx tanaka\n"
          ],
          "name": "stdout"
        }
      ]
    },
    {
      "cell_type": "markdown",
      "metadata": {
        "id": "eCpCdHEgVtSh"
      },
      "source": [
        "# Coding practice, exercise No.3"
      ]
    },
    {
      "cell_type": "code",
      "metadata": {
        "colab": {
          "base_uri": "https://localhost:8080/"
        },
        "id": "5gmjHWSBV-ZS",
        "outputId": "e55e6ad7-29c5-40a9-ee5c-f480412235d1"
      },
      "source": [
        "# Coding practice No.3\n",
        "\n",
        "num = input()\n",
        "# number is a fraction\n",
        "if num.find(\"/\") > 1:\n",
        "    dec_num = int(num[:-4])\n",
        "    per_num = num[:-4] + \"%\"\n",
        "    while dec_num > 1:\n",
        "        dec_num = dec_num/10\n",
        "    print(dec_num)\n",
        "    print(num)\n",
        "    print(per_num)\n",
        "    \n",
        "# number is a percentage\n",
        "elif num[-1] == \"%\":\n",
        "    not_per_num = int(num[:-1])\n",
        "    dec_num = not_per_num\n",
        "    while dec_num > 1:\n",
        "        dec_num = dec_num/10\n",
        "    print(f\"{dec_num:.2f}\")\n",
        "    print(f\"{not_per_num}/100\")\n",
        "    print(num)\n",
        "\n",
        "# number is a decimal\n",
        "elif float(num) < 1:\n",
        "    num = float(num)\n",
        "    dec_num = int(num * 100)\n",
        "    per_num = str(dec_num) + \"%\"\n",
        "    print(num)\n",
        "    print(f\"{dec_num}/100\")\n",
        "    print(per_num)"
      ],
      "execution_count": 1,
      "outputs": [
        {
          "output_type": "stream",
          "text": [
            "25%\n",
            "0.25\n",
            "25/100\n",
            "25%\n"
          ],
          "name": "stdout"
        }
      ]
    }
  ]
}