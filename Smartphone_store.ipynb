{
  "nbformat": 4,
  "nbformat_minor": 0,
  "metadata": {
    "colab": {
      "name": "Smartphone store.ipynb",
      "provenance": [],
      "collapsed_sections": [],
      "authorship_tag": "ABX9TyOPLtYAPB+D+hh2WESzQ/wH",
      "include_colab_link": true
    },
    "kernelspec": {
      "name": "python3",
      "display_name": "Python 3"
    }
  },
  "cells": [
    {
      "cell_type": "markdown",
      "metadata": {
        "id": "view-in-github",
        "colab_type": "text"
      },
      "source": [
        "<a href=\"https://colab.research.google.com/github/TimurGar/Unit-3/blob/main/Smartphone_store.ipynb\" target=\"_parent\"><img src=\"https://colab.research.google.com/assets/colab-badge.svg\" alt=\"Open In Colab\"/></a>"
      ]
    },
    {
      "cell_type": "markdown",
      "metadata": {
        "id": "SE8oysx3mLwM"
      },
      "source": [
        "#Class Exercise\n",
        "Context: Smartphone store that sells smartphones. There are different types of phones, they all have different screen sizes and battery capacity. The client should be able to buy one of several phones, choose the screen size, battery capacity and charge the phone. "
      ]
    },
    {
      "cell_type": "code",
      "metadata": {
        "id": "C_nhIbeIkGJa"
      },
      "source": [
        "class Smartphone():\n",
        " #Constractor: here attributes  are define\n",
        " def __init__(phone,name):\n",
        "   phone.battery_charge = 100\n",
        "   phone.screen_size = 5\n",
        "   phone.cost = 0\n",
        "   phone.name = name\n",
        "  \n",
        " def check_battery(phone):\n",
        "    return phone.battery_charge\n",
        "\n",
        " def get_screen_size(phone):\n",
        "    return phone.screen_size"
      ],
      "execution_count": 18,
      "outputs": []
    },
    {
      "cell_type": "code",
      "metadata": {
        "colab": {
          "base_uri": "https://localhost:8080/"
        },
        "id": "JHWfpQFxllrA",
        "outputId": "7a70431d-0948-4648-e06d-d319f7233177"
      },
      "source": [
        "#Create an object of the class Motorcycle\n",
        "phone_1 = Smartphone(\"Xiaomi\")\n",
        "print(\"{} has {}% charge\".format(phone_1.name,phone_1.check_battery()))\n"
      ],
      "execution_count": 20,
      "outputs": [
        {
          "output_type": "stream",
          "text": [
            "Xiaomi has 100% charge\n"
          ],
          "name": "stdout"
        }
      ]
    },
    {
      "cell_type": "code",
      "metadata": {
        "colab": {
          "base_uri": "https://localhost:8080/"
        },
        "id": "QOz3rVNvJte4",
        "outputId": "596490b0-5477-46d5-c7aa-62f4a4791917"
      },
      "source": [
        "phone_2 = Smartphone(\"IPhone\")\n",
        "print(\"{} has {} inch screen diameter\".format(phone_2.name,phone_2.get_screen_size()))"
      ],
      "execution_count": 21,
      "outputs": [
        {
          "output_type": "stream",
          "text": [
            "IPhone has 5 inch screen diameter\n"
          ],
          "name": "stdout"
        }
      ]
    }
  ]
}